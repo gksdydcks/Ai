{
  "cells": [
    {
      "cell_type": "markdown",
      "metadata": {
        "id": "view-in-github",
        "colab_type": "text"
      },
      "source": [
        "<a href=\"https://colab.research.google.com/github/gksdydcks/Ai/blob/main/quiz2.ipynb\" target=\"_parent\"><img src=\"https://colab.research.google.com/assets/colab-badge.svg\" alt=\"Open In Colab\"/></a>"
      ]
    },
    {
      "cell_type": "markdown",
      "metadata": {
        "id": "un34_EmJn8zd"
      },
      "source": [
        "## PyTorch Quiz 2 : 연산"
      ]
    },
    {
      "cell_type": "markdown",
      "metadata": {
        "id": "mYLjIlPAn8zf"
      },
      "source": [
        "### 1. 덧셈과 뺄셈 연습\n",
        "1. [2, 4, 6]으로 초기화된 1D Tensor를 생성하세요.\n",
        "2. 각 요소에 5를 더한 Tensor를 출력하세요.\n",
        "3. 각 요소에서 3을 뺀 Tensor를 출력하세요.\n"
      ]
    },
    {
      "cell_type": "code",
      "execution_count": 37,
      "metadata": {
        "colab": {
          "base_uri": "https://localhost:8080/"
        },
        "id": "pHV0pyuFn8zg",
        "outputId": "f4062ff9-83fb-4028-b932-1a114b3de77e"
      },
      "outputs": [
        {
          "output_type": "stream",
          "name": "stdout",
          "text": [
            "tensor([ 7,  9, 11])\n",
            "tensor([-1,  1,  3])\n"
          ]
        }
      ],
      "source": [
        "import torch\n",
        "x = torch.tensor([2, 4, 6])\n",
        "add =(x + 5)\n",
        "sub = (x - 3)\n",
        "print(add)\n",
        "print(sub)"
      ]
    },
    {
      "cell_type": "markdown",
      "metadata": {
        "id": "KwWyx69In8zh"
      },
      "source": [
        "### 2. Tensor 간의 연산\n",
        "1. x3 크기의 Tensor 2개를 생성하세요.\n",
        "2. 두 Tensor를 각각 더하고(+), 빼고(-), 곱하고(*), 나누세요(/)."
      ]
    },
    {
      "cell_type": "code",
      "execution_count": 12,
      "metadata": {
        "colab": {
          "base_uri": "https://localhost:8080/"
        },
        "id": "JRVSZ_Okn8zh",
        "outputId": "6ef02698-677a-4dba-e0fa-1c9fe8409301"
      },
      "outputs": [
        {
          "output_type": "stream",
          "name": "stdout",
          "text": [
            "tensor([[1.6817, 0.3730, 0.2794],\n",
            "        [0.6580, 0.7746, 0.2674],\n",
            "        [0.9898, 0.4007, 0.2707]])\n",
            "tensor([[-0.0678, -0.1538,  0.2767],\n",
            "        [ 0.2359,  0.5665,  0.1616],\n",
            "        [ 0.8111, -0.2087, -0.0297]])\n",
            "tensor([[7.0591e-01, 2.8874e-02, 3.6873e-04],\n",
            "        [9.4325e-02, 6.9774e-02, 1.1342e-02],\n",
            "        [8.0443e-02, 2.9250e-02, 1.8105e-02]])\n",
            "tensor([[  0.9225,   0.4161, 209.7059],\n",
            "        [  2.1177,   6.4444,   4.0573],\n",
            "        [ 10.0800,   0.3151,   0.8023]])\n"
          ]
        }
      ],
      "source": [
        "\n",
        "a = torch.rand(3,3)\n",
        "b = torch.rand(3,3)\n",
        "\n",
        "add = torch.add(a,b)\n",
        "sub = torch.sub(a,b)\n",
        "mul = torch.mul(a,b)\n",
        "div = torch.div(a,b)\n",
        "\n",
        "print(add)\n",
        "print(sub)\n",
        "print(mul)\n",
        "print(div)"
      ]
    },
    {
      "cell_type": "markdown",
      "metadata": {
        "id": "HIlSdVEon8zh"
      },
      "source": [
        "### 3. 행렬의 내적 연산\n",
        "1. 2×3 크기의 Tensor A를 다음 값으로 생성하세요:\n",
        "  - `[[1,2,3], [4,5,6]]`\n",
        "2. 3×2 크기의 Tensor B를 다음 값으로 생성하세요:\n",
        "  - `[[7,8],[9,10],[11,12]]`\n",
        "3. 두 Tensor의 행렬 내적(행렬 곱) A×B를 계산하여 출력하세요."
      ]
    },
    {
      "cell_type": "code",
      "execution_count": 40,
      "metadata": {
        "colab": {
          "base_uri": "https://localhost:8080/"
        },
        "id": "KIWvJj60n8zi",
        "outputId": "5992d031-6082-48e3-ae47-005d910ea519"
      },
      "outputs": [
        {
          "output_type": "stream",
          "name": "stdout",
          "text": [
            "tensor([[ 58,  64],\n",
            "        [139, 154]])\n"
          ]
        }
      ],
      "source": [
        "TensorA = torch.tensor([[1,2,3], [4,5,6]])\n",
        "TensorB = torch.tensor([[7,8],[9,10],[11,12]])\n",
        "result = torch.matmul(TensorA, TensorB)\n",
        "print(result)"
      ]
    },
    {
      "cell_type": "markdown",
      "metadata": {
        "id": "Nvv6Chtxn8zi"
      },
      "source": [
        "### 4. 행렬 연산과 값 제한\n",
        "1. 이전 문제에서 계산된 행렬 R(결과 행렬 A×B)를 사용하세요\n",
        "2. 행렬 R의 각 요소에 10을 더하세요.\n",
        "3. R의 각 요소를 100보다 큰 값은 100으로, 나머지는 그대로 유지하도록 제한하세요."
      ]
    },
    {
      "cell_type": "code",
      "execution_count": 44,
      "metadata": {
        "colab": {
          "base_uri": "https://localhost:8080/"
        },
        "id": "BXhQs493n8zj",
        "outputId": "6c2b4e95-ad1b-4538-e428-e28735bc70e7"
      },
      "outputs": [
        {
          "output_type": "stream",
          "name": "stdout",
          "text": [
            "tensor([[ 68,  74],\n",
            "        [149, 164]])\n",
            "tensor([[ 68,  74],\n",
            "        [100, 100]])\n"
          ]
        }
      ],
      "source": [
        "\n",
        "result_1 = torch.add(result, 10)\n",
        "result_2 = torch.clamp(result_1,max =100)\n",
        "print(result_1)\n",
        "print(result_2)"
      ]
    },
    {
      "cell_type": "markdown",
      "metadata": {
        "id": "gv35Z67on8zj"
      },
      "source": [
        "### 5. 행렬의 열별 합계 계산\n",
        "1. 5×5 크기의 Tensor M을 다음 값으로 생성하세요\n",
        "    ```\n",
        "    [[1, 2, 3, 4, 5],\n",
        "     [6, 7, 8, 9, 10],\n",
        "     [11, 12, 13, 14, 15],\n",
        "     [16, 17, 18, 19, 20],\n",
        "     [21, 22, 23, 24, 25]]\n",
        "    ```\n",
        "\n",
        "2. 행렬 M의 각 열의 합계를 계산하세요."
      ]
    },
    {
      "cell_type": "code",
      "execution_count": 36,
      "metadata": {
        "colab": {
          "base_uri": "https://localhost:8080/"
        },
        "id": "9R_zhCyAn8zk",
        "outputId": "810c86f7-237f-4937-d0b6-67e96dc8feb4"
      },
      "outputs": [
        {
          "output_type": "stream",
          "name": "stdout",
          "text": [
            "tensor([[ 1,  2,  3,  4,  5],\n",
            "        [ 6,  7,  8,  9, 10],\n",
            "        [11, 12, 13, 14, 15],\n",
            "        [16, 17, 18, 19, 20],\n",
            "        [21, 22, 23, 24, 25]])\n",
            "tensor([55, 60, 65, 70, 75])\n"
          ]
        }
      ],
      "source": [
        "x = torch.tensor([[1, 2, 3, 4, 5],\n",
        "                  [6, 7, 8, 9, 10],\n",
        "                  [11, 12, 13, 14, 15],\n",
        "                  [16, 17, 18, 19, 20],\n",
        "                  [21, 22, 23, 24, 25]])\n",
        "print(x)\n",
        "\n",
        "result = torch.sum(x, dim=0)\n",
        "print(result)"
      ]
    }
  ],
  "metadata": {
    "language_info": {
      "name": "python"
    },
    "colab": {
      "provenance": [],
      "gpuType": "T4",
      "include_colab_link": true
    },
    "accelerator": "GPU",
    "kernelspec": {
      "name": "python3",
      "display_name": "Python 3"
    }
  },
  "nbformat": 4,
  "nbformat_minor": 0
}