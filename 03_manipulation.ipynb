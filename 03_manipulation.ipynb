{
  "nbformat": 4,
  "nbformat_minor": 0,
  "metadata": {
    "colab": {
      "provenance": [],
      "gpuType": "T4",
      "authorship_tag": "ABX9TyObXPSlpmE2C/Kh1VpeB7fW",
      "include_colab_link": true
    },
    "kernelspec": {
      "name": "python3",
      "display_name": "Python 3"
    },
    "language_info": {
      "name": "python"
    },
    "accelerator": "GPU"
  },
  "cells": [
    {
      "cell_type": "markdown",
      "metadata": {
        "id": "view-in-github",
        "colab_type": "text"
      },
      "source": [
        "<a href=\"https://colab.research.google.com/github/gksdydcks/Ai/blob/main/03_manipulation.ipynb\" target=\"_parent\"><img src=\"https://colab.research.google.com/assets/colab-badge.svg\" alt=\"Open In Colab\"/></a>"
      ]
    },
    {
      "cell_type": "markdown",
      "source": [
        "### 3.Tensor의 조작"
      ],
      "metadata": {
        "id": "6c58TkeAicxk"
      }
    },
    {
      "cell_type": "markdown",
      "source": [
        "### 3-1. 인덱싱 슬라이싱\n",
        "- numpy처럼 활용"
      ],
      "metadata": {
        "id": "ZgaMmS9hx-Dz"
      }
    },
    {
      "cell_type": "code",
      "execution_count": 1,
      "metadata": {
        "id": "K5IkiealhfKR"
      },
      "outputs": [],
      "source": [
        "import torch"
      ]
    },
    {
      "cell_type": "code",
      "source": [
        "tensor = torch.tensor([[1,2],[3,4]])\n",
        "print(tensor[0,1])\n",
        "print(tensor[0,:])\n",
        "\n",
        "a = torch.tensor([1,2,3,4,5])\n",
        "print(a[-2:])\n",
        "\n",
        "b=torch.tensor([[1,2,3],\n",
        "                [4,5,6],\n",
        "                [7,8,9]])\n",
        "c = b[b>5]\n",
        "d= b[b%2 == 0]\n",
        "e=b[[0,1],[1,2]] #0행의 첫번째와 1행의 2번째 불러옴\n",
        "print(e)\n"
      ],
      "metadata": {
        "colab": {
          "base_uri": "https://localhost:8080/"
        },
        "id": "CuhXOnT8yGxH",
        "outputId": "8e297bd9-ffd0-442d-e851-028578ef37ed"
      },
      "execution_count": 7,
      "outputs": [
        {
          "output_type": "stream",
          "name": "stdout",
          "text": [
            "tensor(2)\n",
            "tensor([1, 2])\n",
            "tensor([4, 5])\n"
          ]
        }
      ]
    },
    {
      "cell_type": "markdown",
      "source": [
        "### 3-2. Tensor의  크기 모양변경\n",
        "\n",
        "-"
      ],
      "metadata": {
        "id": "BZlX1F_07aLC"
      }
    },
    {
      "cell_type": "code",
      "source": [
        "t = torch.rand(4,5)\n",
        "print(t)\n",
        "x=t.view(5,4)\n",
        "print(x)\n",
        "\n",
        "y=t.view(10,-1)\n",
        "print(y)"
      ],
      "metadata": {
        "colab": {
          "base_uri": "https://localhost:8080/"
        },
        "id": "q09i0RKa927u",
        "outputId": "e47694a8-e43c-4543-b8b8-53a2b4ae617a"
      },
      "execution_count": 9,
      "outputs": [
        {
          "output_type": "stream",
          "name": "stdout",
          "text": [
            "tensor([[0.4863, 0.8443, 0.2583, 0.5799, 0.0442],\n",
            "        [0.3014, 0.8844, 0.0214, 0.3064, 0.5968],\n",
            "        [0.8048, 0.7189, 0.8676, 0.4105, 0.6653],\n",
            "        [0.9405, 0.4754, 0.9292, 0.9319, 0.4850]])\n",
            "tensor([[0.4863, 0.8443, 0.2583, 0.5799],\n",
            "        [0.0442, 0.3014, 0.8844, 0.0214],\n",
            "        [0.3064, 0.5968, 0.8048, 0.7189],\n",
            "        [0.8676, 0.4105, 0.6653, 0.9405],\n",
            "        [0.4754, 0.9292, 0.9319, 0.4850]])\n",
            "tensor([[0.4863, 0.8443],\n",
            "        [0.2583, 0.5799],\n",
            "        [0.0442, 0.3014],\n",
            "        [0.8844, 0.0214],\n",
            "        [0.3064, 0.5968],\n",
            "        [0.8048, 0.7189],\n",
            "        [0.8676, 0.4105],\n",
            "        [0.6653, 0.9405],\n",
            "        [0.4754, 0.9292],\n",
            "        [0.9319, 0.4850]])\n"
          ]
        }
      ]
    },
    {
      "cell_type": "markdown",
      "source": [
        "### 3-3 Tensor의 숫자값 얻기"
      ],
      "metadata": {
        "id": "4ad31zpl-YM8"
      }
    },
    {
      "cell_type": "code",
      "source": [
        "x= torch.rand(1)\n",
        "print(x)\n",
        "print(x.item())"
      ],
      "metadata": {
        "colab": {
          "base_uri": "https://localhost:8080/"
        },
        "id": "Kipyt1aE-d23",
        "outputId": "ee1008da-a09a-48ed-b26e-6227650ad2b3"
      },
      "execution_count": 16,
      "outputs": [
        {
          "output_type": "stream",
          "name": "stdout",
          "text": [
            "tensor([0.5188])\n",
            "0.5187618136405945\n"
          ]
        }
      ]
    },
    {
      "cell_type": "markdown",
      "source": [
        "### 3-4 차원 축소와 증가\n",
        " - torch.squeeze() : 크기가 1인 차원을 축소"
      ],
      "metadata": {
        "id": "EoIucKeH-ySm"
      }
    },
    {
      "cell_type": "code",
      "source": [
        "x = torch.rand(1,3,3)\n",
        "print(x)\n",
        "print(x.shape)\n",
        "\n",
        "y=  torch.squeeze(x)\n",
        "print(y)\n",
        "print(y.shape)\n"
      ],
      "metadata": {
        "colab": {
          "base_uri": "https://localhost:8080/"
        },
        "id": "p73VBrH6-1Dz",
        "outputId": "ea693e37-23d4-48b1-9add-c00dc4c491d5"
      },
      "execution_count": 18,
      "outputs": [
        {
          "output_type": "stream",
          "name": "stdout",
          "text": [
            "tensor([[[0.0497, 0.5500, 0.0168],\n",
            "         [0.7097, 0.8218, 0.9173],\n",
            "         [0.2792, 0.9560, 0.7927]]])\n",
            "torch.Size([1, 3, 3])\n",
            "tensor([[0.0497, 0.5500, 0.0168],\n",
            "        [0.7097, 0.8218, 0.9173],\n",
            "        [0.2792, 0.9560, 0.7927]])\n",
            "torch.Size([3, 3])\n"
          ]
        }
      ]
    },
    {
      "cell_type": "markdown",
      "source": [
        "### 3-5. 차원 증가(생성)\n",
        "- torch.unsqueeze : 지정한 위치에 새로운 차원 생성"
      ],
      "metadata": {
        "id": "bBhVavtA_hlw"
      }
    },
    {
      "cell_type": "code",
      "source": [
        "x = torch.rand(3,3,3)\n",
        "print(x)\n",
        "print(x.shape)\n",
        "\n",
        "y=  torch.unsqueeze(x,0)\n",
        "print(y)\n",
        "print(y.shape)"
      ],
      "metadata": {
        "colab": {
          "base_uri": "https://localhost:8080/"
        },
        "id": "ehHIxRDy_u7y",
        "outputId": "0c9b38e9-c2ff-4b1d-c804-2e4a746b4a24"
      },
      "execution_count": 22,
      "outputs": [
        {
          "output_type": "stream",
          "name": "stdout",
          "text": [
            "tensor([[[0.1518, 0.9234, 0.3432],\n",
            "         [0.8946, 0.0379, 0.1372],\n",
            "         [0.3016, 0.1513, 0.1456]],\n",
            "\n",
            "        [[0.4831, 0.0544, 0.4661],\n",
            "         [0.8595, 0.5220, 0.7727],\n",
            "         [0.4571, 0.3976, 0.7711]],\n",
            "\n",
            "        [[0.9069, 0.7917, 0.5761],\n",
            "         [0.0623, 0.2175, 0.8631],\n",
            "         [0.6292, 0.7107, 0.5361]]])\n",
            "torch.Size([3, 3, 3])\n",
            "tensor([[[[0.1518, 0.9234, 0.3432],\n",
            "          [0.8946, 0.0379, 0.1372],\n",
            "          [0.3016, 0.1513, 0.1456]],\n",
            "\n",
            "         [[0.4831, 0.0544, 0.4661],\n",
            "          [0.8595, 0.5220, 0.7727],\n",
            "          [0.4571, 0.3976, 0.7711]],\n",
            "\n",
            "         [[0.9069, 0.7917, 0.5761],\n",
            "          [0.0623, 0.2175, 0.8631],\n",
            "          [0.6292, 0.7107, 0.5361]]]])\n",
            "torch.Size([1, 3, 3, 3])\n"
          ]
        }
      ]
    },
    {
      "cell_type": "markdown",
      "source": [
        "### 3-6. Tensor간 결합\n",
        "- torch,stack() : 동일한 형식의 텐서를 새롭게 그룹화\n",
        "- 새로운 차원 생성"
      ],
      "metadata": {
        "id": "HsGebaAuAOXB"
      }
    },
    {
      "cell_type": "code",
      "source": [
        "x = torch.tensor([[1,2],\n",
        "                  [3,4]])\n",
        "y = torch.tensor([[5,6],\n",
        "                  [7,8]])\n",
        "\n",
        "z = torch.stack((x,y))\n",
        "print(z)\n",
        "print(z.shape)"
      ],
      "metadata": {
        "colab": {
          "base_uri": "https://localhost:8080/"
        },
        "id": "xXErdxXzAeh8",
        "outputId": "536ce91d-689e-4d2e-b311-aaa4c9c994c3"
      },
      "execution_count": 26,
      "outputs": [
        {
          "output_type": "stream",
          "name": "stdout",
          "text": [
            "tensor([[[1, 2],\n",
            "         [3, 4]],\n",
            "\n",
            "        [[5, 6],\n",
            "         [7, 8]]])\n",
            "torch.Size([2, 2, 2])\n"
          ]
        }
      ]
    },
    {
      "cell_type": "markdown",
      "source": [
        "- torch.cat(): 하나의 텐서로 결합\n",
        "- 새로운 차원 생성 x"
      ],
      "metadata": {
        "id": "i3pO1xXKA5bf"
      }
    },
    {
      "cell_type": "code",
      "source": [
        "x = torch.tensor([[1,2],\n",
        "                  [3,4]])\n",
        "y = torch.tensor([[5,6],\n",
        "                  [7,8]])\n",
        "\n",
        "z = torch.cat((x,y),dim=0)  #행기준 합치기\n",
        "z_1 = torch.cat((x,y),dim=1) #열기준 합치기\n",
        "print(z)\n",
        "print(z.shape)\n",
        "print(z_1)\n",
        "print(z_1.shape)"
      ],
      "metadata": {
        "colab": {
          "base_uri": "https://localhost:8080/"
        },
        "id": "Ovt8FuizBNUf",
        "outputId": "7ed437d4-db47-43f2-bdfc-770288c11c5b"
      },
      "execution_count": 30,
      "outputs": [
        {
          "output_type": "stream",
          "name": "stdout",
          "text": [
            "tensor([[1, 2],\n",
            "        [3, 4],\n",
            "        [5, 6],\n",
            "        [7, 8]])\n",
            "torch.Size([4, 2])\n",
            "tensor([[1, 2, 5, 6],\n",
            "        [3, 4, 7, 8]])\n",
            "torch.Size([2, 4])\n"
          ]
        }
      ]
    },
    {
      "cell_type": "markdown",
      "source": [
        "## 3-7 Tensor 나누기\n"
      ],
      "metadata": {
        "id": "eKjJV8J0B9OJ"
      }
    },
    {
      "cell_type": "markdown",
      "source": [
        "- torch.chunk : 텐서를 몇개로 나눌지 지정\n",
        "- 나누어 떨어지지 않으면 나머지 조각은 크기 다를 수 있음"
      ],
      "metadata": {
        "id": "sStPVdgyCHCP"
      }
    },
    {
      "cell_type": "code",
      "source": [
        "t = torch.rand(5,3)\n",
        "print(t)\n",
        "\n",
        "a,b,c = torch.chunk(t,3,dim=0)#행 기준 3개로 쪼갬\n",
        "a_1,b_1,c_1 = torch.chunk(t,3,dim=1)#열기준 3개로 쪼갬\n",
        "print(a)\n",
        "print(b)\n",
        "print(c)\n",
        "print(a_1)\n",
        "print(b_1)\n",
        "print(c_1)\n"
      ],
      "metadata": {
        "colab": {
          "base_uri": "https://localhost:8080/"
        },
        "id": "vLpwf4noCFzn",
        "outputId": "522feb54-f132-4f2e-e037-a9385d7d3dde"
      },
      "execution_count": 39,
      "outputs": [
        {
          "output_type": "stream",
          "name": "stdout",
          "text": [
            "tensor([[0.3951, 0.9799, 0.1646],\n",
            "        [0.8149, 0.4743, 0.4241],\n",
            "        [0.3730, 0.4215, 0.9575],\n",
            "        [0.1239, 0.3301, 0.4051],\n",
            "        [0.2452, 0.2753, 0.3434]])\n",
            "tensor([[0.3951, 0.9799, 0.1646],\n",
            "        [0.8149, 0.4743, 0.4241]])\n",
            "tensor([[0.3730, 0.4215, 0.9575],\n",
            "        [0.1239, 0.3301, 0.4051]])\n",
            "tensor([[0.2452, 0.2753, 0.3434]])\n",
            "tensor([[0.3951],\n",
            "        [0.8149],\n",
            "        [0.3730],\n",
            "        [0.1239],\n",
            "        [0.2452]])\n",
            "tensor([[0.9799],\n",
            "        [0.4743],\n",
            "        [0.4215],\n",
            "        [0.3301],\n",
            "        [0.2753]])\n",
            "tensor([[0.1646],\n",
            "        [0.4241],\n",
            "        [0.9575],\n",
            "        [0.4051],\n",
            "        [0.3434]])\n"
          ]
        }
      ]
    },
    {
      "cell_type": "markdown",
      "source": [
        "- torch.split() : 텐서의 크기 기준으로 나눔\n",
        "-"
      ],
      "metadata": {
        "id": "K9LMTxJUDJUh"
      }
    },
    {
      "cell_type": "code",
      "source": [
        "t = torch.rand(6,3)\n",
        "print(t)\n",
        "\n",
        "x,y = torch.split(t,3,dim=0)\n",
        "print(x)\n",
        "print(y)\n",
        "\n",
        "a = torch.tensor([1,2,3,4,5])\n",
        "\n",
        "a_1 = torch.split(a,[2,2,1],dim=0)\n",
        "print(a)\n",
        "print(a_1)\n"
      ],
      "metadata": {
        "colab": {
          "base_uri": "https://localhost:8080/"
        },
        "id": "z7JjH3CBDOqZ",
        "outputId": "6264ecd5-c06d-402e-fbf7-3411463098e6"
      },
      "execution_count": 47,
      "outputs": [
        {
          "output_type": "stream",
          "name": "stdout",
          "text": [
            "tensor([[0.5178, 0.7135, 0.9936],\n",
            "        [0.8515, 0.6654, 0.4625],\n",
            "        [0.5759, 0.7224, 0.5657],\n",
            "        [0.6037, 0.5269, 0.3500],\n",
            "        [0.3471, 0.1976, 0.4074],\n",
            "        [0.8069, 0.7260, 0.4547]])\n",
            "tensor([[0.5178, 0.7135, 0.9936],\n",
            "        [0.8515, 0.6654, 0.4625],\n",
            "        [0.5759, 0.7224, 0.5657]])\n",
            "tensor([[0.6037, 0.5269, 0.3500],\n",
            "        [0.3471, 0.1976, 0.4074],\n",
            "        [0.8069, 0.7260, 0.4547]])\n",
            "tensor([1, 2, 3, 4, 5])\n",
            "(tensor([1, 2]), tensor([3, 4]), tensor([5]))\n"
          ]
        }
      ]
    }
  ]
}