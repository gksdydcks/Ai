{
  "nbformat": 4,
  "nbformat_minor": 0,
  "metadata": {
    "colab": {
      "provenance": [],
      "gpuType": "T4",
      "authorship_tag": "ABX9TyPT1GhJsPgOtrTBeAx9ril+",
      "include_colab_link": true
    },
    "kernelspec": {
      "name": "python3",
      "display_name": "Python 3"
    },
    "language_info": {
      "name": "python"
    },
    "accelerator": "GPU"
  },
  "cells": [
    {
      "cell_type": "markdown",
      "metadata": {
        "id": "view-in-github",
        "colab_type": "text"
      },
      "source": [
        "<a href=\"https://colab.research.google.com/github/gksdydcks/Ai/blob/main/04_autograd.ipynb\" target=\"_parent\"><img src=\"https://colab.research.google.com/assets/colab-badge.svg\" alt=\"Open In Colab\"/></a>"
      ]
    },
    {
      "cell_type": "markdown",
      "source": [
        "\n",
        "\n",
        "### 04.자동미분(Autograd)\n"
      ],
      "metadata": {
        "id": "H6eu9_XRrboZ"
      }
    },
    {
      "cell_type": "code",
      "execution_count": null,
      "metadata": {
        "id": "HiEjTNQNPkLa"
      },
      "outputs": [],
      "source": [
        "import torch"
      ]
    },
    {
      "cell_type": "markdown",
      "source": [
        "#### 4-1. reauires_grad"
      ],
      "metadata": {
        "id": "pL9gB8_8r9HG"
      }
    },
    {
      "cell_type": "code",
      "source": [
        "x = torch.ones(3, requires_grad =True)\n",
        "print(x)\n",
        "print(x.grad)\n",
        "print(x.grad_fn)\n",
        "print(x.requires_grad)"
      ],
      "metadata": {
        "colab": {
          "base_uri": "https://localhost:8080/"
        },
        "id": "Z10IJ037sIuz",
        "outputId": "cba2de9d-78c8-4d91-ae45-380f401c7b2c"
      },
      "execution_count": null,
      "outputs": [
        {
          "output_type": "stream",
          "name": "stdout",
          "text": [
            "tensor([1., 1., 1.], requires_grad=True)\n",
            "None\n",
            "None\n",
            "True\n"
          ]
        }
      ]
    },
    {
      "cell_type": "code",
      "source": [
        "y = 2*x\n",
        "print(y)\n",
        "print(y.grad)\n",
        "print(y.grad_fn)\n",
        "print(y.requires_grad)"
      ],
      "metadata": {
        "colab": {
          "base_uri": "https://localhost:8080/"
        },
        "id": "xuP-Jq-CsmI4",
        "outputId": "fbe8c05a-678a-42db-94a3-560c053eb1f3"
      },
      "execution_count": null,
      "outputs": [
        {
          "output_type": "stream",
          "name": "stdout",
          "text": [
            "tensor([2., 2., 2.], grad_fn=<MulBackward0>)\n",
            "None\n",
            "<MulBackward0 object at 0x7909ef258dc0>\n",
            "True\n"
          ]
        },
        {
          "output_type": "stream",
          "name": "stderr",
          "text": [
            "<ipython-input-30-676acbcf737c>:3: UserWarning: The .grad attribute of a Tensor that is not a leaf Tensor is being accessed. Its .grad attribute won't be populated during autograd.backward(). If you indeed want the .grad field to be populated for a non-leaf Tensor, use .retain_grad() on the non-leaf Tensor. If you access the non-leaf Tensor by mistake, make sure you access the leaf Tensor instead. See github.com/pytorch/pytorch/pull/30531 for more informations. (Triggered internally at aten/src/ATen/core/TensorBody.h:489.)\n",
            "  print(y.grad)\n"
          ]
        }
      ]
    },
    {
      "cell_type": "code",
      "source": [
        "z = y**2\n",
        "print(z)\n",
        "print(z.grad)\n",
        "print(z.grad_fn)\n",
        "print(z.requires_grad)"
      ],
      "metadata": {
        "colab": {
          "base_uri": "https://localhost:8080/"
        },
        "id": "IlhCOjAhtTEz",
        "outputId": "ae62f1d4-f249-49b4-95af-dff0ae8b286f"
      },
      "execution_count": null,
      "outputs": [
        {
          "output_type": "stream",
          "name": "stdout",
          "text": [
            "tensor([4., 4., 4.], grad_fn=<PowBackward0>)\n",
            "None\n",
            "<PowBackward0 object at 0x7909ef258e20>\n",
            "True\n"
          ]
        },
        {
          "output_type": "stream",
          "name": "stderr",
          "text": [
            "<ipython-input-31-72c026d2078c>:3: UserWarning: The .grad attribute of a Tensor that is not a leaf Tensor is being accessed. Its .grad attribute won't be populated during autograd.backward(). If you indeed want the .grad field to be populated for a non-leaf Tensor, use .retain_grad() on the non-leaf Tensor. If you access the non-leaf Tensor by mistake, make sure you access the leaf Tensor instead. See github.com/pytorch/pytorch/pull/30531 for more informations. (Triggered internally at aten/src/ATen/core/TensorBody.h:489.)\n",
            "  print(z.grad)\n"
          ]
        }
      ]
    },
    {
      "cell_type": "markdown",
      "source": [
        "## 4-2. backward()\n",
        "- x->y->z 순으로 된 계산에서 역전파를 통해 기울기를 구함(노드= x,y,z)"
      ],
      "metadata": {
        "id": "bWfugYjbtiNj"
      }
    },
    {
      "cell_type": "code",
      "source": [
        "result = z.sum()\n",
        "print(result)\n",
        "result.backward()"
      ],
      "metadata": {
        "colab": {
          "base_uri": "https://localhost:8080/"
        },
        "id": "swW8mQRKt4Wf",
        "outputId": "011ac922-b873-417a-fa71-de197fbb021a"
      },
      "execution_count": null,
      "outputs": [
        {
          "output_type": "stream",
          "name": "stdout",
          "text": [
            "tensor(12., grad_fn=<SumBackward0>)\n"
          ]
        }
      ]
    },
    {
      "cell_type": "code",
      "source": [
        "print(z)\n",
        "print(x.grad)\n"
      ],
      "metadata": {
        "colab": {
          "base_uri": "https://localhost:8080/"
        },
        "id": "2oN7cIakuPxR",
        "outputId": "52bc5278-b3e4-42fa-cebc-f0773b85844d"
      },
      "execution_count": null,
      "outputs": [
        {
          "output_type": "stream",
          "name": "stdout",
          "text": [
            "tensor([4., 4., 4.], grad_fn=<PowBackward0>)\n",
            "tensor([8., 8., 8.])\n"
          ]
        }
      ]
    },
    {
      "cell_type": "markdown",
      "source": [
        "### 4-3. no_grad()\n",
        "- 역전파를 중지"
      ],
      "metadata": {
        "id": "lUZDOVpWv5Il"
      }
    },
    {
      "cell_type": "code",
      "source": [
        "x = torch.tensor(1.0, requires_grad=True)\n",
        "print (x.requires_grad)\n",
        "\n",
        "with torch.no_grad():\n",
        "    y = x**2\n",
        "    print (x.requires_grad)\n",
        "    print (y.requires_grad)"
      ],
      "metadata": {
        "colab": {
          "base_uri": "https://localhost:8080/"
        },
        "id": "tAwH8jIIwEKA",
        "outputId": "4679c7fc-ff02-4b0c-955d-d2182b6a0d12"
      },
      "execution_count": null,
      "outputs": [
        {
          "output_type": "stream",
          "name": "stdout",
          "text": [
            "True\n",
            "True\n",
            "False\n"
          ]
        }
      ]
    },
    {
      "cell_type": "markdown",
      "source": [
        "### 4-4. detach()\n",
        "- 그래프에서 연산을 분리"
      ],
      "metadata": {
        "id": "ebXUjhg4xNOO"
      }
    },
    {
      "cell_type": "code",
      "source": [
        "y.detach()"
      ],
      "metadata": {
        "colab": {
          "base_uri": "https://localhost:8080/"
        },
        "id": "aIXvG1G5xXaF",
        "outputId": "899620d5-4308-4caa-da6c-aca9f8759795"
      },
      "execution_count": null,
      "outputs": [
        {
          "output_type": "execute_result",
          "data": {
            "text/plain": [
              "tensor(1.)"
            ]
          },
          "metadata": {},
          "execution_count": 46
        }
      ]
    },
    {
      "cell_type": "markdown",
      "source": [
        "### 실습1. 선형회귀 실습\n",
        "- 입 출력 정의 > 모델 만들기 > 손실함수 정의 > weight최적화"
      ],
      "metadata": {
        "id": "BS7m3Wki06oh"
      }
    },
    {
      "cell_type": "code",
      "source": [
        "          ###선형회귀 연습\n",
        "import torch.nn as nn\n",
        "import torch.optim as optim\n",
        "import matplotlib.pyplot as plt\n",
        "\n",
        "    #1. 데이터 입출력 정의\n",
        "x = torch.linspace(0,10,100).view(-1,1) #열기준 하나씩 땜 : 입력 데이터\n",
        "y = 3 * x + 2+torch.randn(100,1)*2  #노이즈 추가:torch.randn\n",
        "\n",
        "    #2. 모델 정의(선형회귀)\n",
        "class LinearRegressionMdel(nn.Module):\n",
        "    def __init__(self):\n",
        "        super(LinearRegressionMdel, self).__init__()\n",
        "        self.linear = nn.Linear(1,1) #(입력1개,출력 1개)\n",
        "\n",
        "    def forward(self,x):    #순전파\n",
        "        return self.linear(x)\n",
        "\n",
        "model = LinearRegressionMdel()\n",
        "\n",
        "    #3. 손실함수 정의\n",
        "    #((손실함수 선택 : MSE,MAE.. 등)(Mean Squared Error)\n",
        "loss_function = nn.MSELoss()\n",
        "\n",
        "    #4. 가중치 업데이트\n",
        "    #(경사하강법 -> 어떤것을 사용할지 선택)\n",
        "optimizer = optim.SGD(model.parameters(),lr = 0.01) #가중치,편향\n",
        "\n",
        "    #5. 학습 반복\n",
        "epochs = 400 #반복횟수 400번\n",
        "losses = []\n",
        "\n",
        "for epoch in range(epochs): #지정한 반복횟수 만큼 돌리기\n",
        "    optimizer.zero_grad() #기울기 초기화\n",
        "    outputs = model(x)  #예측값 계산\n",
        "    loss = loss_function(outputs,y) #손실계산\n",
        "    loss.backward() #역전파\n",
        "    optimizer.step() #가중치 업데이트\n",
        "    losses.append(loss.item())  #손실값 저장\n",
        "    if (epoch +1)% 50 == 0:#(epoch +1)이 50으로 나눴을때 출력/50번째마다 출력\n",
        "      print(f\"Epoch [{epoch +1}/{epochs}], Loss : {loss.item():.4f}\")\n",
        "\n",
        "     #6.결과 시각화\n",
        "plt.figure(figsize=(10,5))\n",
        "\n",
        "      #손실감소 그래프\n",
        "plt.subplot(1,2,1)#(1행2열 1번째자리)\n",
        "plt.plot(losses)\n",
        "plt.ylim(0,5)#0~5사이 표현\n",
        "plt.title(\"Loss over Epochs\")\n",
        "plt.xlabel(\"Epochs\")\n",
        "plt.ylabel(\"Loss\")\n",
        "\n",
        "    #  데이터와 예측결과 시각화\n",
        "plt.subplot(1,2,2)\n",
        "plt.scatter(x.numpy(),y.numpy(), label=\"Origin Data\")\n",
        "plt.plot(x.numpy(),model(x).detach().numpy(),color = \"red\", label=\"Fitted Data\")\n",
        "plt.title(\"Liner Regression\")\n",
        "plt.xlabel(\"x\")\n",
        "plt.ylabel(\"y\")\n",
        "plt.legend()\n",
        "plt.show()\n",
        "\n",
        "#최종모델 파라미터 확인\n",
        "print(\"Model parameters\")\n",
        "for name,param in model.named_parameters():\n",
        "    print(f\"{name}:{param.data}\")\n"
      ],
      "metadata": {
        "colab": {
          "base_uri": "https://localhost:8080/",
          "height": 689
        },
        "id": "HGZAgSN01FJO",
        "outputId": "1931e8fe-9d75-4483-af75-6d2f5a35edb1"
      },
      "execution_count": null,
      "outputs": [
        {
          "output_type": "stream",
          "name": "stdout",
          "text": [
            "Epoch [50/400], Loss : 3.9190\n",
            "Epoch [100/400], Loss : 3.8282\n",
            "Epoch [150/400], Loss : 3.7730\n",
            "Epoch [200/400], Loss : 3.7394\n",
            "Epoch [250/400], Loss : 3.7190\n",
            "Epoch [300/400], Loss : 3.7066\n",
            "Epoch [350/400], Loss : 3.6990\n",
            "Epoch [400/400], Loss : 3.6944\n"
          ]
        },
        {
          "output_type": "display_data",
          "data": {
            "text/plain": [
              "<Figure size 1000x500 with 2 Axes>"
            ],
            "image/png": "[encoded data removed]"
          },
          "metadata": {}
        },
        {
          "output_type": "stream",
          "name": "stdout",
          "text": [
            "Model parameters\n",
            "linear.weight:tensor([[3.0911]])\n",
            "linear.bias:tensor([1.3469])\n"
          ]
        }
      ]
    }
  ]
}