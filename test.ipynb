{
  "nbformat": 4,
  "nbformat_minor": 0,
  "metadata": {
    "colab": {
      "provenance": [],
      "gpuType": "T4",
      "authorship_tag": "ABX9TyNEzrhgzMi8QjNFg5qT7ZAE",
      "include_colab_link": true
    },
    "kernelspec": {
      "name": "python3",
      "display_name": "Python 3"
    },
    "language_info": {
      "name": "python"
    },
    "accelerator": "GPU"
  },
  "cells": [
    {
      "cell_type": "markdown",
      "metadata": {
        "id": "view-in-github",
        "colab_type": "text"
      },
      "source": [
        "<a href=\"https://colab.research.google.com/github/gksdydcks/Ai/blob/main/test.ipynb\" target=\"_parent\"><img src=\"https://colab.research.google.com/assets/colab-badge.svg\" alt=\"Open In Colab\"/></a>"
      ]
    },
    {
      "cell_type": "code",
      "source": [
        "from google.colab import drive\n",
        "drive.mount('/content/drive')"
      ],
      "metadata": {
        "id": "Cfdz_MrmEkyT"
      },
      "execution_count": null,
      "outputs": []
    },
    {
      "cell_type": "code",
      "execution_count": 4,
      "metadata": {
        "colab": {
          "base_uri": "https://localhost:8080/",
          "height": 35
        },
        "id": "_o7Xorwh-cda",
        "outputId": "3624f871-d715-4c58-e267-efaeacf4bb68"
      },
      "outputs": [
        {
          "output_type": "execute_result",
          "data": {
            "text/plain": [
              "'2.5.1+cu121'"
            ],
            "application/vnd.google.colaboratory.intrinsic+json": {
              "type": "string"
            }
          },
          "metadata": {},
          "execution_count": 4
        }
      ],
      "source": [
        "import torch\n",
        "torch.__version__"
      ]
    },
    {
      "cell_type": "code",
      "source": [
        "!pip install torchvision torchaudio\n"
      ],
      "metadata": {
        "colab": {
          "base_uri": "https://localhost:8080/"
        },
        "id": "5wr1AefPAh3o",
        "outputId": "11e60962-9aff-4cf1-e8f0-16c6e9d1a00e"
      },
      "execution_count": null,
      "outputs": [
        {
          "output_type": "stream",
          "name": "stdout",
          "text": [
            "Requirement already satisfied: torchvision in /usr/local/lib/python3.10/dist-packages (0.20.1+cu121)\n",
            "Requirement already satisfied: torchaudio in /usr/local/lib/python3.10/dist-packages (2.5.1+cu121)\n",
            "Requirement already satisfied: numpy in /usr/local/lib/python3.10/dist-packages (from torchvision) (1.26.4)\n",
            "Requirement already satisfied: torch==2.5.1 in /usr/local/lib/python3.10/dist-packages (from torchvision) (2.5.1+cu121)\n",
            "Requirement already satisfied: pillow!=8.3.*,>=5.3.0 in /usr/local/lib/python3.10/dist-packages (from torchvision) (11.1.0)\n",
            "Requirement already satisfied: filelock in /usr/local/lib/python3.10/dist-packages (from torch==2.5.1->torchvision) (3.16.1)\n",
            "Requirement already satisfied: typing-extensions>=4.8.0 in /usr/local/lib/python3.10/dist-packages (from torch==2.5.1->torchvision) (4.12.2)\n",
            "Requirement already satisfied: networkx in /usr/local/lib/python3.10/dist-packages (from torch==2.5.1->torchvision) (3.4.2)\n",
            "Requirement already satisfied: jinja2 in /usr/local/lib/python3.10/dist-packages (from torch==2.5.1->torchvision) (3.1.5)\n",
            "Requirement already satisfied: fsspec in /usr/local/lib/python3.10/dist-packages (from torch==2.5.1->torchvision) (2024.10.0)\n",
            "Requirement already satisfied: sympy==1.13.1 in /usr/local/lib/python3.10/dist-packages (from torch==2.5.1->torchvision) (1.13.1)\n",
            "Requirement already satisfied: mpmath<1.4,>=1.1.0 in /usr/local/lib/python3.10/dist-packages (from sympy==1.13.1->torch==2.5.1->torchvision) (1.3.0)\n",
            "Requirement already satisfied: MarkupSafe>=2.0 in /usr/local/lib/python3.10/dist-packages (from jinja2->torch==2.5.1->torchvision) (3.0.2)\n"
          ]
        }
      ]
    },
    {
      "cell_type": "markdown",
      "source": [
        "#초기화 : 텐서에 특정값을 채워서 생성"
      ],
      "metadata": {
        "id": "kzy6S7aODNn2"
      }
    },
    {
      "cell_type": "markdown",
      "source": [
        "#### 1-1 초기화 되지 않은 Tensor"
      ],
      "metadata": {
        "id": "rPisLB-EDUPR"
      }
    },
    {
      "cell_type": "code",
      "source": [
        "import cv2\n",
        "import numpy as np\n",
        "x = torch.empty(4,2)  #2d텐서 (row,column)\n",
        "print(x)"
      ],
      "metadata": {
        "colab": {
          "base_uri": "https://localhost:8080/"
        },
        "id": "SmqldpelBsGz",
        "outputId": "da16a55f-0ce5-4437-f581-e5d86e2cb7e1"
      },
      "execution_count": 5,
      "outputs": [
        {
          "output_type": "stream",
          "name": "stdout",
          "text": [
            "tensor([[ 5.4689e-18,  4.4267e-41],\n",
            "        [ 5.4689e-18,  4.4267e-41],\n",
            "        [-2.8000e+04,  3.1114e-41],\n",
            "        [-2.8000e+04,  3.1114e-41]])\n"
          ]
        }
      ]
    },
    {
      "cell_type": "markdown",
      "source": [
        "#### 1-2 상수로 초기화 된 Tensor"
      ],
      "metadata": {
        "id": "NH2Mlz_xD478"
      }
    },
    {
      "cell_type": "code",
      "source": [
        "x = torch.zeros(4,2, dtype=torch.long)  #데이터 타입 지정\n",
        "y = torch.ones(2,4, dtype=torch.double)\n",
        "print(x,y)"
      ],
      "metadata": {
        "colab": {
          "base_uri": "https://localhost:8080/"
        },
        "id": "F1pwcIRJD-6X",
        "outputId": "ec64079f-00fd-4b13-f3f9-32b05edc98f0"
      },
      "execution_count": null,
      "outputs": [
        {
          "output_type": "stream",
          "name": "stdout",
          "text": [
            "tensor([[0, 0],\n",
            "        [0, 0],\n",
            "        [0, 0],\n",
            "        [0, 0]]) tensor([[1., 1., 1., 1.],\n",
            "        [1., 1., 1., 1.]], dtype=torch.float64)\n"
          ]
        }
      ]
    },
    {
      "cell_type": "markdown",
      "source": [
        "#### 1-3 무작위로 초기화된 Tensor"
      ],
      "metadata": {
        "id": "1TTuphNPEmRp"
      }
    },
    {
      "cell_type": "code",
      "source": [
        "x=torch.rand(4,2)\n",
        "y=torch.randn(2,3)\n",
        "print(x,y)"
      ],
      "metadata": {
        "colab": {
          "base_uri": "https://localhost:8080/"
        },
        "id": "kJyfuarsEqv2",
        "outputId": "7b0a57f2-bed3-4116-9a0f-06d646cef143"
      },
      "execution_count": null,
      "outputs": [
        {
          "output_type": "stream",
          "name": "stdout",
          "text": [
            "tensor([[0.8186, 0.2628],\n",
            "        [0.3714, 0.7915],\n",
            "        [0.2621, 0.1282],\n",
            "        [0.7787, 0.9399]]) tensor([[-0.1942, -0.3488, -0.7999],\n",
            "        [-0.7505,  1.4071,  0.6067]])\n"
          ]
        }
      ]
    },
    {
      "cell_type": "markdown",
      "source": [
        "#### 1-4. 직접 입력한 값으로 초기화"
      ],
      "metadata": {
        "id": "nvglgYYnFCM1"
      }
    },
    {
      "cell_type": "code",
      "source": [
        "x = torch.tensor([1,2.5])\n",
        "print(x)"
      ],
      "metadata": {
        "colab": {
          "base_uri": "https://localhost:8080/"
        },
        "id": "svLDtfceFG3_",
        "outputId": "300ecd5f-b220-4611-dd36-a8dd317586a1"
      },
      "execution_count": null,
      "outputs": [
        {
          "output_type": "stream",
          "name": "stdout",
          "text": [
            "tensor([1.0000, 2.5000])\n"
          ]
        }
      ]
    },
    {
      "cell_type": "markdown",
      "source": [
        "#### 1-5. Numpy 배열로 부터 초기화"
      ],
      "metadata": {
        "id": "wOkqTdTSFhgH"
      }
    },
    {
      "cell_type": "code",
      "source": [
        "nd_arr = np.array([1,2,3])\n",
        "a = torch.from_numpy(nd_arr)\n",
        "\n",
        "b = torch.tensor([1,2,3,4,5])#numpy array로 변환\n",
        "new_nd = b.numpy()\n",
        "new_nd[2] = 100 #[2번째 바꿈]\n",
        "print(new_nd)\n"
      ],
      "metadata": {
        "colab": {
          "base_uri": "https://localhost:8080/"
        },
        "id": "l2KoIJYqFnho",
        "outputId": "cc122cfe-2e23-4eb5-c41b-3a75287a1900"
      },
      "execution_count": null,
      "outputs": [
        {
          "output_type": "stream",
          "name": "stdout",
          "text": [
            "[  1   2 100   4   5]\n"
          ]
        }
      ]
    },
    {
      "cell_type": "markdown",
      "source": [
        "#### 1-6. 특정 텐서와 같은 타입, 무작위로 값을 채움"
      ],
      "metadata": {
        "id": "rKv0BoPSGfMN"
      }
    },
    {
      "cell_type": "code",
      "source": [
        "a =torch.ones(3,4,dtype=torch.long)\n",
        "b = torch.rand_like(a, dtype=torch.float)\n",
        "#b = torch.zeors_like(a, dtype=torch.float) #0출력\n",
        "print(b)"
      ],
      "metadata": {
        "colab": {
          "base_uri": "https://localhost:8080/"
        },
        "id": "SmHgUeX3GhZZ",
        "outputId": "c6d4943f-ab9d-4a4a-bcfc-064b306ed0b2"
      },
      "execution_count": null,
      "outputs": [
        {
          "output_type": "stream",
          "name": "stdout",
          "text": [
            "tensor([[0.2113, 0.2767, 0.5380, 0.9465],\n",
            "        [0.3174, 0.0388, 0.9520, 0.1931],\n",
            "        [0.5190, 0.2859, 0.5029, 0.9802]])\n"
          ]
        }
      ]
    },
    {
      "cell_type": "code",
      "source": [
        "!git add test1.ipynb\n"
      ],
      "metadata": {
        "colab": {
          "base_uri": "https://localhost:8080/"
        },
        "id": "eDJtz0q3QEOG",
        "outputId": "007b6481-2c2d-4e53-beff-8e58d3e52d40"
      },
      "execution_count": 1,
      "outputs": [
        {
          "output_type": "stream",
          "name": "stdout",
          "text": [
            "fatal: not a git repository (or any of the parent directories): .git\n"
          ]
        }
      ]
    },
    {
      "cell_type": "markdown",
      "source": [
        "#### 1-7. Tensor의 속성"
      ],
      "metadata": {
        "id": "L1k87mxYQoVs"
      }
    },
    {
      "cell_type": "code",
      "source": [
        "tensor = torch.rand(3,4)\n",
        "print(tensor.size())#모양\n",
        "print(tensor.shape)#모양\n",
        "print(tensor.dtype)#자료형\n",
        "print(tensor.device)#장치"
      ],
      "metadata": {
        "colab": {
          "base_uri": "https://localhost:8080/"
        },
        "id": "HoXMCgS7QuPx",
        "outputId": "31d3c109-bdc3-4270-b8ff-94bbc278accd"
      },
      "execution_count": 6,
      "outputs": [
        {
          "output_type": "stream",
          "name": "stdout",
          "text": [
            "torch.Size([3, 4])\n",
            "torch.Size([3, 4])\n",
            "torch.float32\n",
            "cpu\n"
          ]
        }
      ]
    },
    {
      "cell_type": "markdown",
      "source": [
        "#### 1-8. 특정 타입의 Tensor 생성"
      ],
      "metadata": {
        "id": "6uZ7E8rsRQ2z"
      }
    },
    {
      "cell_type": "code",
      "source": [
        "tensor = torch.rand(3,4,dtype=torch.float64)\n",
        "print(tensor.dtype)\n",
        "ft = torch.FloatTensor([1,2,3])\n",
        "print(ft.dtype)\n",
        "\n",
        "tensor = torch.tensor([1,2,3], dtype=torch.int32)\n",
        "print(tensor.dtype)\n"
      ],
      "metadata": {
        "colab": {
          "base_uri": "https://localhost:8080/"
        },
        "id": "aqPJqnBHRWk1",
        "outputId": "30cc090f-2691-4bf2-8279-662a3776b6ce"
      },
      "execution_count": 9,
      "outputs": [
        {
          "output_type": "stream",
          "name": "stdout",
          "text": [
            "torch.float32\n",
            "torch.int32\n"
          ]
        }
      ]
    },
    {
      "cell_type": "markdown",
      "source": [
        "#### 1-9. 데이터 타입 캐스팅"
      ],
      "metadata": {
        "id": "KX23UoFyR5nl"
      }
    },
    {
      "cell_type": "code",
      "source": [
        "float_tensor = torch.FloatTensor([1,2,3])\n",
        "print(float_tensor.int())\n",
        "int_tensor = torch.IntTensor([1,2,3])\n",
        "print(int_tensor.float())"
      ],
      "metadata": {
        "colab": {
          "base_uri": "https://localhost:8080/"
        },
        "id": "o97AFb66Rx-4",
        "outputId": "1a8b3343-6455-47e7-88a0-e06b715d1a40"
      },
      "execution_count": 10,
      "outputs": [
        {
          "output_type": "stream",
          "name": "stdout",
          "text": [
            "tensor([1, 2, 3], dtype=torch.int32)\n",
            "tensor([1., 2., 3.])\n"
          ]
        }
      ]
    },
    {
      "cell_type": "markdown",
      "source": [
        "#### 1-10. CUDA Tensor"
      ],
      "metadata": {
        "id": "PH-pFF0YTcfI"
      }
    },
    {
      "cell_type": "code",
      "source": [
        "print(torch.cuda.is_available())"
      ],
      "metadata": {
        "colab": {
          "base_uri": "https://localhost:8080/"
        },
        "id": "P5jjEPwATbtw",
        "outputId": "45a4cd4a-0538-41e4-93e4-63ce19f6b311"
      },
      "execution_count": 12,
      "outputs": [
        {
          "output_type": "stream",
          "name": "stdout",
          "text": [
            "True\n"
          ]
        }
      ]
    }
  ]
}