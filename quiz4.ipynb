{
  "cells": [
    {
      "cell_type": "markdown",
      "metadata": {
        "id": "view-in-github",
        "colab_type": "text"
      },
      "source": [
        "<a href=\"https://colab.research.google.com/github/gksdydcks/Ai/blob/main/quiz4.ipynb\" target=\"_parent\"><img src=\"https://colab.research.google.com/assets/colab-badge.svg\" alt=\"Open In Colab\"/></a>"
      ]
    },
    {
      "cell_type": "code",
      "execution_count": 1,
      "metadata": {
        "colab": {
          "base_uri": "https://localhost:8080/"
        },
        "id": "WE-DjWIhEso3",
        "outputId": "d06c8c96-afce-4670-891a-cc4937f34e0f"
      },
      "outputs": [
        {
          "output_type": "stream",
          "name": "stdout",
          "text": [
            "setting complete.\n"
          ]
        }
      ],
      "source": [
        "import torch\n",
        "print(\"setting complete.\")"
      ]
    },
    {
      "cell_type": "markdown",
      "metadata": {
        "id": "zPPEBa2NEso5"
      },
      "source": [
        "### 문제1\n",
        "- 2차원 텐서 [[1, 2, 3], [4, 5, 6]]를 3x2 텐서로 변환해서 출력하세요."
      ]
    },
    {
      "cell_type": "code",
      "execution_count": 27,
      "metadata": {
        "colab": {
          "base_uri": "https://localhost:8080/"
        },
        "id": "hvyWgs9BEso6",
        "outputId": "f17d2d2a-e108-47cd-92d5-1fd3cfb162a7"
      },
      "outputs": [
        {
          "output_type": "stream",
          "name": "stdout",
          "text": [
            "tensor([[1, 2],\n",
            "        [3, 4],\n",
            "        [5, 6]])\n"
          ]
        }
      ],
      "source": [
        "a = torch.tensor([[1, 2, 3], [4, 5, 6]])\n",
        "b = a.view(3, 2)\n",
        "print(b)"
      ]
    },
    {
      "cell_type": "markdown",
      "metadata": {
        "id": "8_lDo6PdEso8"
      },
      "source": [
        "### 문제2\n",
        "- 단일 값 텐서 tensor(42)에서 값을 추출하고 데이터 타입을 확인해서 출력하세요.\n",
        "- (1) 값을 추출하고\n",
        "- (2) 데이터 타입을 확인하세요."
      ]
    },
    {
      "cell_type": "code",
      "execution_count": 4,
      "metadata": {
        "colab": {
          "base_uri": "https://localhost:8080/"
        },
        "id": "PUqjaA6vEso8",
        "outputId": "fe34cfbc-9b8a-4b07-e64f-a96053164465"
      },
      "outputs": [
        {
          "output_type": "stream",
          "name": "stdout",
          "text": [
            "42\n",
            "torch.int64\n"
          ]
        }
      ],
      "source": [
        "a = torch.tensor(42)\n",
        "print(a.item())\n",
        "print(a.dtype)\n"
      ]
    },
    {
      "cell_type": "markdown",
      "metadata": {
        "id": "AwjU8RXpEso9"
      },
      "source": [
        "### 문제 3\n",
        "- 3차원 텐서 [[[1, 2, 3]]]에서 크기가 1인 차원을 제거해서 출력하세요."
      ]
    },
    {
      "cell_type": "code",
      "execution_count": 31,
      "metadata": {
        "colab": {
          "base_uri": "https://localhost:8080/"
        },
        "id": "i-WxUtwhEso_",
        "outputId": "cfa25955-5d5a-44e6-a7d8-0d40ebe7801b"
      },
      "outputs": [
        {
          "output_type": "stream",
          "name": "stdout",
          "text": [
            "torch.Size([1, 1, 3])\n",
            "tensor([1, 2, 3])\n",
            "torch.Size([3])\n"
          ]
        }
      ],
      "source": [
        "a = torch.tensor([[[1, 2, 3]]])\n",
        "print(a.shape)\n",
        "b = a.squeeze()\n",
        "print(b)\n",
        "print(b.shape)"
      ]
    },
    {
      "cell_type": "markdown",
      "metadata": {
        "id": "bA6Bc-8oEspA"
      },
      "source": [
        "### 문제 4\n",
        "- 1차원 텐서 [1, 2, 3]에 새로운 차원을 추가하여 2차원 텐서로 만들어 출력하세요."
      ]
    },
    {
      "cell_type": "code",
      "execution_count": 34,
      "metadata": {
        "colab": {
          "base_uri": "https://localhost:8080/"
        },
        "id": "G-KUF6xwEspA",
        "outputId": "11504289-281d-453f-84c2-d8ab2ecb1d97"
      },
      "outputs": [
        {
          "output_type": "stream",
          "name": "stdout",
          "text": [
            "tensor([[1, 2, 3]])\n"
          ]
        }
      ],
      "source": [
        "a = torch.tensor([1, 2, 3])\n",
        "b = torch.unsqueeze(a,dim=0)\n",
        "\n",
        "print(b)"
      ]
    },
    {
      "cell_type": "markdown",
      "metadata": {
        "id": "95nCvCfbEspB"
      },
      "source": [
        "### 문제 5\n",
        "- 두 텐서 a = [1, 2]와 b = [3, 4]를 쌓아 2x2 텐서를 생성해서 출력하세요.\n"
      ]
    },
    {
      "cell_type": "code",
      "execution_count": 10,
      "metadata": {
        "colab": {
          "base_uri": "https://localhost:8080/"
        },
        "id": "OYduZuC8EspB",
        "outputId": "560fd807-3fd6-434d-f97b-2f8cbc58fafd"
      },
      "outputs": [
        {
          "output_type": "stream",
          "name": "stdout",
          "text": [
            "tensor([[1, 2],\n",
            "        [3, 4]])\n"
          ]
        }
      ],
      "source": [
        "\n",
        "a = torch.tensor([1, 2])\n",
        "b = torch.tensor([3, 4])\n",
        "c = torch.stack((a, b))\n",
        "print(c)"
      ]
    },
    {
      "cell_type": "markdown",
      "metadata": {
        "id": "sbrtt6Y9EspB"
      },
      "source": [
        "### 문제 6\n",
        "- 두 텐서 a = [[1, 2], [3, 4]]와 b = [[5, 6], [7, 8]]를 열 방향으로 연결해서 출력하세요."
      ]
    },
    {
      "cell_type": "code",
      "execution_count": 35,
      "metadata": {
        "colab": {
          "base_uri": "https://localhost:8080/"
        },
        "id": "9xy2mqGpEspC",
        "outputId": "98f42e19-13dc-4857-f730-caa31181d74c"
      },
      "outputs": [
        {
          "output_type": "stream",
          "name": "stdout",
          "text": [
            "tensor([[1, 2, 5, 6],\n",
            "        [3, 4, 7, 8]])\n"
          ]
        }
      ],
      "source": [
        "a = torch.tensor([[1, 2],[3,4]])\n",
        "b = torch.tensor([[5,6],[7,8]])\n",
        "c = torch.cat((a, b),dim = 1)\n",
        "print(c)\n"
      ]
    },
    {
      "cell_type": "markdown",
      "metadata": {
        "id": "DjZT-WLGEspC"
      },
      "source": [
        "### 문제 7\n",
        "- 텐서 [[1, 2, 3], [4, 5, 6]]를 2개의 조각으로 나눠서 출력해보세요. (행 기준)."
      ]
    },
    {
      "cell_type": "code",
      "execution_count": 36,
      "metadata": {
        "colab": {
          "base_uri": "https://localhost:8080/"
        },
        "id": "D3EeMoJsEspC",
        "outputId": "4940540a-b0b6-490d-bc2b-92abf360f508"
      },
      "outputs": [
        {
          "output_type": "stream",
          "name": "stdout",
          "text": [
            "(tensor([[1, 2, 3]]), tensor([[4, 5, 6]]))\n"
          ]
        }
      ],
      "source": [
        "a = torch.tensor([[1,2,3],[4,5,6]])\n",
        "b = torch.chunk(a,2, dim =0)\n",
        "print(b)"
      ]
    },
    {
      "cell_type": "markdown",
      "metadata": {
        "id": "FCaIMM1CEspD"
      },
      "source": [
        "### 문제8\n",
        "- 텐서 [1, 2, 3, 4, 5]를 각각 2, 2, 1의 크기로 나눠서 출력해보세요."
      ]
    },
    {
      "cell_type": "code",
      "execution_count": 38,
      "metadata": {
        "colab": {
          "base_uri": "https://localhost:8080/"
        },
        "id": "h6U918rPEspD",
        "outputId": "73865cd5-87eb-4cd7-cd3a-f97457f7279e"
      },
      "outputs": [
        {
          "output_type": "stream",
          "name": "stdout",
          "text": [
            "(tensor([1, 2]), tensor([3, 4]), tensor([5]))\n",
            "tensor([1, 2]) tensor([3, 4]) tensor([5])\n"
          ]
        }
      ],
      "source": [
        "a = torch.tensor([1,2,3,4,5])\n",
        "x,y,z = torch.split(a,[2,2,1],dim=0)\n",
        "b= torch.split(a,[2,2,1],dim=0)\n",
        "print(b)\n",
        "print(x,y,z)"
      ]
    },
    {
      "cell_type": "markdown",
      "metadata": {
        "id": "rFZX1coHEspE"
      },
      "source": [
        "### 문제9\n",
        "- 텐서 [[1, 2], [3, 4], [5, 6]]에서:\n",
        "- dim=1 기준으로 크기 1씩 나누세요.\n",
        "- 각각의 조각을 새로운 축에 쌓은 후 출력해보세요."
      ]
    },
    {
      "cell_type": "code",
      "execution_count": 20,
      "metadata": {
        "colab": {
          "base_uri": "https://localhost:8080/"
        },
        "id": "Rm3hcx9LEspE",
        "outputId": "9cc75bee-764f-438c-a43e-059ca8094f26"
      },
      "outputs": [
        {
          "output_type": "stream",
          "name": "stdout",
          "text": [
            "(tensor([[1],\n",
            "        [3],\n",
            "        [5]]), tensor([[2],\n",
            "        [4],\n",
            "        [6]]))\n",
            "tensor([[[1],\n",
            "         [3],\n",
            "         [5]],\n",
            "\n",
            "        [[2],\n",
            "         [4],\n",
            "         [6]]])\n"
          ]
        }
      ],
      "source": [
        "# 여기에 코드를 작성합니다\n",
        "# 1. 열 기준으로 크기 1씩 나누기\n",
        "a = torch.tensor([[1, 2], [3, 4], [5, 6]])\n",
        "b = torch.split(a,1,dim=1)\n",
        "print(b)\n",
        "# 2. 새로운 축에 쌓기\n",
        "c= torch.stack(b)\n",
        "print(c)\n"
      ]
    },
    {
      "cell_type": "markdown",
      "metadata": {
        "id": "hnMtIcMhEspE"
      },
      "source": [
        "### 문제10\n",
        "- 다음 텐서를 활용해서 아래 문제를 해결해보세요\n",
        "  ```\n",
        "  a = torch.tensor([[1, 2], [3, 4]])\n",
        "  b = torch.tensor([[5, 6], [7, 8]])\n",
        "  ```\n",
        "\n",
        "1. 두 텐서를 열 기준으로 연결하고 결과를 출력하세요.\n",
        "2. 연결된 텐서를 크기 `(4, 2)`로 변환하세요.\n",
        "3. 변환된 텐서를 2개의 조각으로 나누고, 각 조각을 0번 축으로 스택하여 출력하세요.\n"
      ]
    },
    {
      "cell_type": "code",
      "execution_count": 41,
      "metadata": {
        "colab": {
          "base_uri": "https://localhost:8080/"
        },
        "id": "Et5M0UknEspF",
        "outputId": "0fe1e420-d5c2-43f6-a0ca-18399e32940d"
      },
      "outputs": [
        {
          "output_type": "stream",
          "name": "stdout",
          "text": [
            "tensor([[1, 2, 5, 6],\n",
            "        [3, 4, 7, 8]])\n",
            "tensor([[1, 2],\n",
            "        [5, 6],\n",
            "        [3, 4],\n",
            "        [7, 8]])\n",
            "(tensor([[1, 2],\n",
            "        [5, 6]]), tensor([[3, 4],\n",
            "        [7, 8]]))\n",
            "tensor([[[1, 2],\n",
            "         [5, 6]],\n",
            "\n",
            "        [[3, 4],\n",
            "         [7, 8]]])\n"
          ]
        }
      ],
      "source": [
        "a = torch.tensor([[1, 2], [3, 4]])\n",
        "b = torch.tensor([[5, 6], [7, 8]])\n",
        "# 여기에 코드를 작성합니다\n",
        "# 1. 열 기준으로 병합\n",
        "a = torch.cat((a,b),dim =1)\n",
        "print(a)\n",
        "# 2. 크기 (4, 2)로 변환\n",
        "b = a.view(4,2)\n",
        "print(b)\n",
        "# 3. 2개의 조각으로 나누고\n",
        "c = torch.chunk(b,2,dim=0)\n",
        "print(c)\n",
        "# 4. 0번 축으로 스택\n",
        "d= torch.stack(c)\n",
        "print(d)"
      ]
    }
  ],
  "metadata": {
    "kernelspec": {
      "display_name": "pytorch-env",
      "language": "python",
      "name": "python3"
    },
    "language_info": {
      "codemirror_mode": {
        "name": "ipython",
        "version": 3
      },
      "file_extension": ".py",
      "mimetype": "text/x-python",
      "name": "python",
      "nbconvert_exporter": "python",
      "pygments_lexer": "ipython3",
      "version": "3.12.8"
    },
    "colab": {
      "provenance": [],
      "include_colab_link": true
    }
  },
  "nbformat": 4,
  "nbformat_minor": 0
}