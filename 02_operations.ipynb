{
  "nbformat": 4,
  "nbformat_minor": 0,
  "metadata": {
    "colab": {
      "provenance": [],
      "authorship_tag": "ABX9TyOIRu52CTDuwpJfAqwTNjM6",
      "include_colab_link": true
    },
    "kernelspec": {
      "name": "python3",
      "display_name": "Python 3"
    },
    "language_info": {
      "name": "python"
    }
  },
  "cells": [
    {
      "cell_type": "markdown",
      "metadata": {
        "id": "view-in-github",
        "colab_type": "text"
      },
      "source": [
        "<a href=\"https://colab.research.google.com/github/gksdydcks/Ai/blob/main/02_operations.ipynb\" target=\"_parent\"><img src=\"https://colab.research.google.com/assets/colab-badge.svg\" alt=\"Open In Colab\"/></a>"
      ]
    },
    {
      "cell_type": "markdown",
      "source": [],
      "metadata": {
        "id": "mTuTUCjvYzSq"
      }
    },
    {
      "cell_type": "markdown",
      "source": [
        "#### 02. 텐서의 연산"
      ],
      "metadata": {
        "id": "7L26OPOkY7uB"
      }
    },
    {
      "cell_type": "code",
      "execution_count": null,
      "metadata": {
        "id": "x0yEse7nYxkw"
      },
      "outputs": [],
      "source": [
        "import torch"
      ]
    },
    {
      "cell_type": "markdown",
      "source": [
        "### 2-1. Tensor 연산"
      ],
      "metadata": {
        "id": "Smzocnd_ZHMJ"
      }
    },
    {
      "cell_type": "code",
      "source": [
        "tensor = torch.rand(2,2)\n",
        "print(tensor)\n",
        "tensor = tensor *2\n",
        "print(tensor)\n",
        "tensor = tensor +1\n",
        "print(tensor)"
      ],
      "metadata": {
        "colab": {
          "base_uri": "https://localhost:8080/"
        },
        "id": "DYlg1bdaZHFW",
        "outputId": "e234ca1c-233c-4424-aa8e-7760332e973a"
      },
      "execution_count": null,
      "outputs": [
        {
          "output_type": "stream",
          "name": "stdout",
          "text": [
            "tensor([[0.5002, 0.7559],\n",
            "        [0.9569, 0.1993]])\n",
            "tensor([[1.0004, 1.5119],\n",
            "        [1.9137, 0.3986]])\n",
            "tensor([[2.0004, 2.5119],\n",
            "        [2.9137, 1.3986]])\n"
          ]
        }
      ]
    },
    {
      "cell_type": "markdown",
      "source": [
        "더하기"
      ],
      "metadata": {
        "id": "Cd0W5pgfZouU"
      }
    },
    {
      "cell_type": "code",
      "source": [
        "x = torch.rand(2,2)\n",
        "y = torch.rand(2,2)\n",
        "add = torch.add(x,y)\n",
        "print(x,y)\n",
        "print(x+y)"
      ],
      "metadata": {
        "colab": {
          "base_uri": "https://localhost:8080/"
        },
        "id": "Rh1jSpkZZo9n",
        "outputId": "813a988a-eb83-402d-8e46-c0b8e93a3aef"
      },
      "execution_count": null,
      "outputs": [
        {
          "output_type": "stream",
          "name": "stdout",
          "text": [
            "tensor([[0.0127, 0.9320],\n",
            "        [0.3455, 0.6370]]) tensor([[0.2265, 0.0240],\n",
            "        [0.0174, 0.8777]])\n",
            "tensor([[0.2392, 0.9559],\n",
            "        [0.3629, 1.5147]])\n"
          ]
        }
      ]
    },
    {
      "cell_type": "markdown",
      "source": [
        "inplace 바꿔치기 연산"
      ],
      "metadata": {
        "id": "x_-wmwREZ3e8"
      }
    },
    {
      "cell_type": "code",
      "source": [
        "add = torch.add(x,y)\n",
        "print(add)\n",
        "y.add_(x)\n",
        "print(y)"
      ],
      "metadata": {
        "colab": {
          "base_uri": "https://localhost:8080/"
        },
        "id": "lbqdzeKhZ598",
        "outputId": "e9b108dc-3484-4c22-8987-8bee3646b78b"
      },
      "execution_count": null,
      "outputs": [
        {
          "output_type": "stream",
          "name": "stdout",
          "text": [
            "tensor([[0.2518, 1.8879],\n",
            "        [0.7084, 2.1516]])\n",
            "tensor([[0.2518, 1.8879],\n",
            "        [0.7084, 2.1516]])\n"
          ]
        }
      ]
    },
    {
      "cell_type": "markdown",
      "source": [
        "빼기"
      ],
      "metadata": {
        "id": "eHhyz29naTdr"
      }
    },
    {
      "cell_type": "code",
      "source": [
        "x = torch.rand(2,2)\n",
        "y = torch.rand(2,2)\n",
        "sub = torch.sub(x,y)\n",
        "print(x,y)\n",
        "print(sub)"
      ],
      "metadata": {
        "colab": {
          "base_uri": "https://localhost:8080/"
        },
        "id": "UraPrJmxaYCp",
        "outputId": "04b6ff2a-2be2-4a9b-867b-d8a9cbb89177"
      },
      "execution_count": null,
      "outputs": [
        {
          "output_type": "stream",
          "name": "stdout",
          "text": [
            "tensor([[0.0679, 0.1698],\n",
            "        [0.8434, 0.7717]]) tensor([[0.8220, 0.3276],\n",
            "        [0.2178, 0.1923]])\n",
            "tensor([[-0.7540, -0.1578],\n",
            "        [ 0.6256,  0.5793]])\n"
          ]
        }
      ]
    },
    {
      "cell_type": "markdown",
      "source": [
        "곱하기\n"
      ],
      "metadata": {
        "id": "b0zt3WrgajBj"
      }
    },
    {
      "cell_type": "code",
      "source": [
        "x = torch.rand(2,2)\n",
        "y = torch.rand(2,2)\n",
        "mul = torch.mul(x,y)\n",
        "print(x,y)\n",
        "print(mul)"
      ],
      "metadata": {
        "colab": {
          "base_uri": "https://localhost:8080/"
        },
        "id": "kBnYx2EnakDk",
        "outputId": "05f15345-c0b7-49ce-fe6a-a273875e2fad"
      },
      "execution_count": null,
      "outputs": [
        {
          "output_type": "stream",
          "name": "stdout",
          "text": [
            "tensor([[0.2400, 0.2909],\n",
            "        [0.9753, 0.8000]]) tensor([[0.4358, 0.3228],\n",
            "        [0.3077, 0.1779]])\n",
            "tensor([[0.1046, 0.0939],\n",
            "        [0.3001, 0.1423]])\n"
          ]
        }
      ]
    },
    {
      "cell_type": "markdown",
      "source": [
        "나누기"
      ],
      "metadata": {
        "id": "IAsYu38Fan4W"
      }
    },
    {
      "cell_type": "code",
      "source": [
        "x = torch.rand(2,2)\n",
        "y = torch.rand(2,2)\n",
        "div = torch.div(x,y)\n",
        "print(x,y)\n",
        "print(div)"
      ],
      "metadata": {
        "colab": {
          "base_uri": "https://localhost:8080/"
        },
        "id": "RIc08m2WaowP",
        "outputId": "833fda3e-b25c-49b7-e53a-ea2b0e6514b6"
      },
      "execution_count": null,
      "outputs": [
        {
          "output_type": "stream",
          "name": "stdout",
          "text": [
            "tensor([[0.9071, 0.7905],\n",
            "        [0.7967, 0.2905]]) tensor([[0.8143, 0.6256],\n",
            "        [0.5598, 0.7965]])\n",
            "tensor([[1.1140, 1.2637],\n",
            "        [1.4231, 0.3647]])\n"
          ]
        }
      ]
    }
  ]
}