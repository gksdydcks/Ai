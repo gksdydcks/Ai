{
  "cells": [
    {
      "cell_type": "markdown",
      "metadata": {
        "id": "view-in-github",
        "colab_type": "text"
      },
      "source": [
        "<a href=\"https://colab.research.google.com/github/gksdydcks/Ai/blob/main/quiz3.ipynb\" target=\"_parent\"><img src=\"https://colab.research.google.com/assets/colab-badge.svg\" alt=\"Open In Colab\"/></a>"
      ]
    },
    {
      "cell_type": "code",
      "execution_count": 2,
      "metadata": {
        "colab": {
          "base_uri": "https://localhost:8080/"
        },
        "id": "ZkdeTAsq0GX-",
        "outputId": "26646ffe-9b7c-45b2-9e1c-c3d55633d532"
      },
      "outputs": [
        {
          "output_type": "stream",
          "name": "stdout",
          "text": [
            "setting complete.\n"
          ]
        }
      ],
      "source": [
        "import torch\n",
        "print(\"setting complete.\")"
      ]
    },
    {
      "cell_type": "markdown",
      "metadata": {
        "id": "sXQQEzgb0GYA"
      },
      "source": [
        "### 문제1 : 기본 인덱싱"
      ]
    },
    {
      "cell_type": "code",
      "execution_count": 7,
      "metadata": {
        "colab": {
          "base_uri": "https://localhost:8080/"
        },
        "id": "41YA-w250GYB",
        "outputId": "3e7ccfe5-b400-42f4-c557-0afdc761ef0b"
      },
      "outputs": [
        {
          "output_type": "stream",
          "name": "stdout",
          "text": [
            "tensor(2)\n",
            "tensor(7)\n"
          ]
        }
      ],
      "source": [
        "t = torch.tensor([[1, 2, 3], [4, 5, 6], [7, 8, 9]])\n",
        "print(t[0,1]) # (1) 첫 번째 행의 두 번째 값을 출력하세요.\n",
        "print(t[2,0]) # (2) 세 번째 행의 첫 번째 값을 출력하세요."
      ]
    },
    {
      "cell_type": "markdown",
      "metadata": {
        "id": "8ZKjbz0T0GYD"
      },
      "source": [
        "### 문제2 : 기본 슬라이싱"
      ]
    },
    {
      "cell_type": "code",
      "execution_count": 10,
      "metadata": {
        "colab": {
          "base_uri": "https://localhost:8080/"
        },
        "id": "JUspYKlv0GYE",
        "outputId": "4d50e378-dde5-44a8-effc-a6f4fef73c98"
      },
      "outputs": [
        {
          "output_type": "stream",
          "name": "stdout",
          "text": [
            "tensor([[1, 2, 3],\n",
            "        [4, 5, 6]])\n",
            "tensor([1, 4, 7])\n"
          ]
        }
      ],
      "source": [
        "t = torch.tensor([[1, 2, 3], [4, 5, 6], [7, 8, 9]])\n",
        "print(t[0:2,:]) # (1) 첫 번째와 두 번째 행의 모든 값을 추출하세요.\n",
        "print(t[:,0]) # (2) 모든 행의 첫 번째 열을 추출하세요."
      ]
    },
    {
      "cell_type": "markdown",
      "metadata": {
        "id": "HoryDwLE0GYF"
      },
      "source": [
        "### 문제 3: 음수 인덱싱"
      ]
    },
    {
      "cell_type": "code",
      "execution_count": 13,
      "metadata": {
        "colab": {
          "base_uri": "https://localhost:8080/"
        },
        "id": "Y6A4S9r40GYG",
        "outputId": "b441e35a-937d-44d5-8115-9a9603dae8a7"
      },
      "outputs": [
        {
          "output_type": "stream",
          "name": "stdout",
          "text": [
            "tensor([4, 5, 6])\n"
          ]
        }
      ],
      "source": [
        "t = torch.tensor([1, 2, 3, 4, 5, 6])\n",
        "print(t[-3:])# 끝에서 세 번째 값부터 끝까지 추출하세요."
      ]
    },
    {
      "cell_type": "markdown",
      "metadata": {
        "id": "fTNJxuZO0GYG"
      },
      "source": [
        "### 문제 4: 조건에 따른 필터링"
      ]
    },
    {
      "cell_type": "code",
      "execution_count": 34,
      "metadata": {
        "colab": {
          "base_uri": "https://localhost:8080/"
        },
        "id": "EK2GN6rW0GYH",
        "outputId": "d8a3d134-5308-4471-dd47-46a0b159435a"
      },
      "outputs": [
        {
          "output_type": "stream",
          "name": "stdout",
          "text": [
            "tensor([1, 3, 5, 7, 9])\n",
            "tensor([ 3, -6,  9])\n"
          ]
        }
      ],
      "source": [
        "t = torch.tensor([[1, -2, 3], [-4, 5, -6], [7, -8, 9]])\n",
        "print(t[0<t]) # (1) 양수만 추출하세요.\n",
        "print(t[t%3==0])  # (2) 3으로 나누어떨어지는 값만 추출하세요."
      ]
    },
    {
      "cell_type": "markdown",
      "metadata": {
        "id": "MFVkfiMg0GYI"
      },
      "source": [
        "### 문제 5: 슬라이싱으로 값 변경\n",
        "  - 두 번째 행의 값을 모두 0으로 변경하세요.\n"
      ]
    },
    {
      "cell_type": "code",
      "execution_count": 35,
      "metadata": {
        "colab": {
          "base_uri": "https://localhost:8080/"
        },
        "id": "iH4qq8mX0GYJ",
        "outputId": "4bf3e053-56c1-4a6d-ed80-5df09f938a43"
      },
      "outputs": [
        {
          "output_type": "stream",
          "name": "stdout",
          "text": [
            "tensor([[ 1, -2,  3],\n",
            "        [ 0,  0,  0],\n",
            "        [ 7, -8,  9]])\n"
          ]
        }
      ],
      "source": [
        "t[1,:] = 0\n",
        "print(t)"
      ]
    },
    {
      "cell_type": "markdown",
      "metadata": {
        "id": "PRKhhFeH0GYJ"
      },
      "source": [
        "### 문제 6: 고급 인덱싱\n",
        "- (1) (0, 1), (1, 2), (2, 0) 위치의 값을 추출하세요.\n",
        "- (2) 두 번째 행과 세 번째 행의 첫 번째 열과 세 번째 열 값을 추출하세요."
      ]
    },
    {
      "cell_type": "code",
      "execution_count": 43,
      "metadata": {
        "colab": {
          "base_uri": "https://localhost:8080/"
        },
        "id": "53XixfhW0GYK",
        "outputId": "e4260580-9be6-4c5c-b532-0ab552ff0a14"
      },
      "outputs": [
        {
          "output_type": "stream",
          "name": "stdout",
          "text": [
            "tensor([2, 6, 7])\n",
            "tensor([[4, 6],\n",
            "        [7, 9]])\n"
          ]
        }
      ],
      "source": [
        "t = torch.tensor([[1, 2, 3],\n",
        "                  [4, 5, 6],\n",
        "                  [7, 8, 9]])\n",
        "print(t[[0,1,2],[1,2,0]])\n",
        "print(t[1:3, [0,2]])\n"
      ]
    },
    {
      "cell_type": "markdown",
      "metadata": {
        "id": "z4qu0Ksw0GYK"
      },
      "source": [
        "### 문제 7: 특정 범위 슬라이싱\n",
        "- 두 번째와 세 번째 행의 두 번째와 세 번째 열을 추출하세요."
      ]
    },
    {
      "cell_type": "code",
      "execution_count": 44,
      "metadata": {
        "colab": {
          "base_uri": "https://localhost:8080/"
        },
        "id": "rJ0XH7zl0GYL",
        "outputId": "5f3c14c5-6526-4901-92c5-10c2125044bf"
      },
      "outputs": [
        {
          "output_type": "stream",
          "name": "stdout",
          "text": [
            "tensor([[ 6,  7],\n",
            "        [10, 11]])\n"
          ]
        }
      ],
      "source": [
        "t = torch.tensor([\n",
        "    [1, 2, 3, 4],\n",
        "    [5, 6, 7, 8],\n",
        "    [9, 10, 11, 12],\n",
        "    [13, 14, 15, 16]\n",
        "])\n",
        "print(t[1:3, 1:3])"
      ]
    }
  ],
  "metadata": {
    "kernelspec": {
      "display_name": "torch_env",
      "language": "python",
      "name": "python3"
    },
    "language_info": {
      "codemirror_mode": {
        "name": "ipython",
        "version": 3
      },
      "file_extension": ".py",
      "mimetype": "text/x-python",
      "name": "python",
      "nbconvert_exporter": "python",
      "pygments_lexer": "ipython3",
      "version": "3.12.8"
    },
    "colab": {
      "provenance": [],
      "include_colab_link": true
    }
  },
  "nbformat": 4,
  "nbformat_minor": 0
}